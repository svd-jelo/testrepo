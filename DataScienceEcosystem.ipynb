{
 "cells": [
  {
   "cell_type": "markdown",
   "id": "660fc369-1cec-4511-a209-13876fd03026",
   "metadata": {},
   "source": [
    "# Data Science Tools and Ecosystem"
   ]
  },
  {
   "cell_type": "markdown",
   "id": "a188efde-3be2-4932-a5ea-87b5bb13c1a7",
   "metadata": {},
   "source": [
    "In this notebook, Data Science Tools and Ecosystem are summarized."
   ]
  },
  {
   "cell_type": "markdown",
   "id": "3fecac95-1c80-4be4-978d-91f16045fe75",
   "metadata": {},
   "source": [
    "Data scientists commonly use several programming languages to perform data analysis, machine learning, and statistical modeling. Some of the most popular ones include:\n",
    "1. Python\n",
    "2. R\n",
    "3. SQL\n",
    "4. Julia\n",
    "5. SAS\n",
    "6. MATLAB\n",
    "7. Scala\n",
    "8. Java\n",
    "9. C/C++"
   ]
  },
  {
   "cell_type": "markdown",
   "id": "0af0208f-0db8-4f0c-91c3-7f6d91c048ea",
   "metadata": {},
   "source": [
    "Data scientists rely on a variety of libraries to perform data analysis, machine learning, data visualization, and more. Here are some commonly used libraries across different programming languages:\n",
    "\n",
    "**Python Libraries**\n",
    "1. NumPy\n",
    "2. Pandas\n",
    "3. Matplotlib\n",
    "\n",
    "**R Libraries**\n",
    "1. ggplot2\n",
    "2. dplyr\n",
    "3. tidyr\n",
    "\n",
    "**Julia Libraries**\n",
    "1. DataFrames.jl\n",
    "2. Plots.jl\n",
    "\n",
    "**SQL Tools**\n",
    "1. SQLAlchemy\n",
    "2. Pandasql"
   ]
  },
  {
   "cell_type": "markdown",
   "id": "a0f357dc-76e7-404f-8778-c6ac7a706b28",
   "metadata": {},
   "source": [
    "| Data Science Tools |\n",
    "| ------------------ |\n",
    "| Jupyter Notebook   |\n",
    "| RStudio            |\n",
    "| VSCode             |"
   ]
  },
  {
   "cell_type": "markdown",
   "id": "6c00d757-7f30-4857-b54e-cb207f8c1f2b",
   "metadata": {},
   "source": [
    "### Below are a few examples of evaluating arithmetic expressions in Python"
   ]
  },
  {
   "cell_type": "code",
   "execution_count": 12,
   "id": "9ea1772a-cb6c-45cb-b264-49dd5e1c1fb9",
   "metadata": {},
   "outputs": [
    {
     "data": {
      "text/plain": [
       "17"
      ]
     },
     "execution_count": 12,
     "metadata": {},
     "output_type": "execute_result"
    }
   ],
   "source": [
    "# This is a simple arithmetic expression to multiply then add integers\n",
    "\n",
    "(3*4)+5"
   ]
  },
  {
   "cell_type": "code",
   "execution_count": 14,
   "id": "22012acc-b390-475c-9b08-b68588618bdd",
   "metadata": {},
   "outputs": [
    {
     "data": {
      "text/plain": [
       "3.3333333333333335"
      ]
     },
     "execution_count": 14,
     "metadata": {},
     "output_type": "execute_result"
    }
   ],
   "source": [
    "# This will convert 200 minutes to hours by dividing by 60\n",
    "\n",
    "200/60"
   ]
  },
  {
   "cell_type": "markdown",
   "id": "31a809a1-7549-4ab4-9184-5ca9b46b8a47",
   "metadata": {},
   "source": [
    "**Objectives:**\n",
    "- List popular languages for Data Science\n",
    "- List commonly used libraries used by Data Scientists\n",
    "- Construct a table of Data Science Tools\n",
    "- Give examples of evaluating arithmetic expressions in Python"
   ]
  },
  {
   "cell_type": "markdown",
   "id": "f4418efe-5322-489e-8b02-b23aec55b918",
   "metadata": {},
   "source": [
    "## Author\n",
    "Jelo Artoza"
   ]
  }
 ],
 "metadata": {
  "kernelspec": {
   "display_name": "Python 3 (ipykernel)",
   "language": "python",
   "name": "python3"
  },
  "language_info": {
   "codemirror_mode": {
    "name": "ipython",
    "version": 3
   },
   "file_extension": ".py",
   "mimetype": "text/x-python",
   "name": "python",
   "nbconvert_exporter": "python",
   "pygments_lexer": "ipython3",
   "version": "3.11.7"
  }
 },
 "nbformat": 4,
 "nbformat_minor": 5
}
